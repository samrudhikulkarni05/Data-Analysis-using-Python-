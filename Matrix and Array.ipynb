{
 "cells": [
  {
   "cell_type": "code",
   "execution_count": 1,
   "id": "c28bb394-125e-4fd9-861c-e10db18285d4",
   "metadata": {},
   "outputs": [],
   "source": [
    "import numpy as np\n"
   ]
  },
  {
   "cell_type": "code",
   "execution_count": 2,
   "id": "4e6deac0-5388-4e74-bf37-a2a57c7d04cf",
   "metadata": {},
   "outputs": [
    {
     "name": "stdout",
     "output_type": "stream",
     "text": [
      "55\n",
      "<class 'numpy.ndarray'>\n"
     ]
    }
   ],
   "source": [
    "x1=np.array(55)\n",
    "print(x1)\n",
    "print(type(x1))\n"
   ]
  },
  {
   "cell_type": "code",
   "execution_count": 3,
   "id": "eb84229f-b48a-46cc-a7bc-a24d17f1e515",
   "metadata": {},
   "outputs": [
    {
     "name": "stdout",
     "output_type": "stream",
     "text": [
      "[1 2 3 4 5 6 7 8]\n",
      "<class 'numpy.ndarray'>\n"
     ]
    }
   ],
   "source": [
    "x2=np.array([1,2,3,4,5,6,7,8])\n",
    "print(x2)\n",
    "print(type(x1))"
   ]
  },
  {
   "cell_type": "code",
   "execution_count": 4,
   "id": "052d2d6b-cc12-4ccc-a800-86f7edb1f874",
   "metadata": {},
   "outputs": [
    {
     "name": "stdout",
     "output_type": "stream",
     "text": [
      "1.26.4\n"
     ]
    }
   ],
   "source": [
    "print(np.__version__)"
   ]
  },
  {
   "cell_type": "code",
   "execution_count": 6,
   "id": "0bb134b9-646e-4cea-aabf-0f3c9c587d32",
   "metadata": {},
   "outputs": [
    {
     "name": "stdout",
     "output_type": "stream",
     "text": [
      "[[1 2 3]\n",
      " [4 5 6]]\n",
      "<class 'numpy.ndarray'>\n",
      "2\n",
      "(2, 3)\n"
     ]
    }
   ],
   "source": [
    "x3=np.array([[1,2,3],[4,5,6]])\n",
    "print(x3)\n",
    "print(type(x3))\n",
    "print(x3.ndim)\n",
    "print(x3.shape)"
   ]
  },
  {
   "cell_type": "code",
   "execution_count": 8,
   "id": "3f1a5861-634c-432f-88ba-62830433bc27",
   "metadata": {},
   "outputs": [
    {
     "name": "stdout",
     "output_type": "stream",
     "text": [
      "[[1 2 3 4]\n",
      " [4 5 6 7]\n",
      " [8 9 5 3]\n",
      " [3 2 7 8]]\n",
      "<class 'numpy.ndarray'>\n",
      "2\n",
      "(4, 4)\n"
     ]
    }
   ],
   "source": [
    "x4=np.array([[1,2,3,4],[4,5,6,7],[8,9,5,3],[3,2,7,8]])\n",
    "print(x4)\n",
    "print(type(x4))\n",
    "print(x4.ndim)\n",
    "print(x4.shape)"
   ]
  },
  {
   "cell_type": "code",
   "execution_count": 9,
   "id": "3766db43-310f-4143-8488-6e157e1e3c9d",
   "metadata": {},
   "outputs": [
    {
     "name": "stdout",
     "output_type": "stream",
     "text": [
      "[[[2 4]\n",
      "  [3 5]]\n",
      "\n",
      " [[6 8]\n",
      "  [7 9]]]\n",
      "<class 'numpy.ndarray'>\n",
      "3\n",
      "(2, 2, 2)\n"
     ]
    }
   ],
   "source": [
    "x5=np.array([[[2,4],[3,5]],[[6,8],[7,9]]])\n",
    "print(x5)\n",
    "print(type(x5))\n",
    "print(x5.ndim)\n",
    "print(x5.shape)"
   ]
  },
  {
   "cell_type": "code",
   "execution_count": 10,
   "id": "fd46ce91-6ce0-4c4a-a8eb-7d5c69ddc683",
   "metadata": {},
   "outputs": [
    {
     "name": "stdout",
     "output_type": "stream",
     "text": [
      "[[[2 4]\n",
      "  [3 5]]\n",
      "\n",
      " [[6 8]\n",
      "  [7 9]]\n",
      "\n",
      " [[2 4]\n",
      "  [3 5]]\n",
      "\n",
      " [[6 8]\n",
      "  [7 9]]]\n",
      "<class 'numpy.ndarray'>\n",
      "3\n",
      "(4, 2, 2)\n"
     ]
    }
   ],
   "source": [
    "x5=np.array([[[2,4],[3,5]],[[6,8],[7,9]],[[2,4],[3,5]],[[6,8],[7,9]]])\n",
    "print(x5)\n",
    "print(type(x5))\n",
    "print(x5.ndim)\n",
    "print(x5.shape)"
   ]
  },
  {
   "cell_type": "markdown",
   "id": "43b0ee14-1460-4955-b0ac-12e4fbfc74c7",
   "metadata": {},
   "source": [
    "#### Reshaping of an Arry"
   ]
  },
  {
   "cell_type": "code",
   "execution_count": 13,
   "id": "cfe366d2-c324-4db6-b796-2e3df6501004",
   "metadata": {},
   "outputs": [
    {
     "name": "stdout",
     "output_type": "stream",
     "text": [
      "[1 2 3 4 5 6 7 8]\n",
      "1\n",
      "(8,)\n",
      "******************************\n",
      "[[1 2]\n",
      " [3 4]\n",
      " [5 6]\n",
      " [7 8]]\n",
      "2\n",
      "(4, 2)\n",
      "******************************\n"
     ]
    }
   ],
   "source": [
    "x6=np.array([1,2,3,4,5,6,7,8])\n",
    "print(x6)\n",
    "print(x6.ndim)\n",
    "print(x6.shape)\n",
    "print(\"*\"*30)\n",
    "x7=x6.reshape(4,2)\n",
    "print(x7)\n",
    "print(x7.ndim)\n",
    "print(x7.shape)\n",
    "print(\"*\"*30)"
   ]
  },
  {
   "cell_type": "code",
   "execution_count": 18,
   "id": "ce23b90b-29d7-44b9-81ba-ca2f22730420",
   "metadata": {},
   "outputs": [
    {
     "name": "stdout",
     "output_type": "stream",
     "text": [
      "[ 1  2  3  4  5  6  7  8  9 10 11 12]\n",
      "1\n",
      "(12,)\n",
      "******************************\n",
      "[[ 1  2  3]\n",
      " [ 4  5  6]\n",
      " [ 7  8  9]\n",
      " [10 11 12]]\n",
      "2\n",
      "(4, 3)\n",
      "******************************\n"
     ]
    }
   ],
   "source": [
    "x8=np.array([1,2,3,4,5,6,7,8,9,10,11,12])\n",
    "print(x8)\n",
    "print(x8.ndim)\n",
    "print(x8.shape)\n",
    "print(\"*\"*30)\n",
    "x9=x8.reshape(4,3)\n",
    "print(x9)\n",
    "print(x9.ndim)\n",
    "print(x9.shape)\n",
    "print(\"*\"*30)\n",
    "x9=x8.reshape(4,3)"
   ]
  },
  {
   "cell_type": "code",
   "execution_count": 21,
   "id": "d7632a9b-11bf-4cc0-ae42-cd6e91d5c5e2",
   "metadata": {},
   "outputs": [
    {
     "name": "stdout",
     "output_type": "stream",
     "text": [
      "[ 1  2  3  4  5  6  7  8  9 10 11 12]\n",
      "1\n",
      "(12,)\n",
      "******************************\n",
      "[[[ 1  2]\n",
      "  [ 3  4]\n",
      "  [ 5  6]]\n",
      "\n",
      " [[ 7  8]\n",
      "  [ 9 10]\n",
      "  [11 12]]]\n",
      "3\n",
      "(2, 3, 2)\n",
      "******************************\n"
     ]
    }
   ],
   "source": [
    "x10=np.array([1,2,3,4,5,6,7,8,9,10,11,12])\n",
    "print(x10)\n",
    "print(x10.ndim)\n",
    "print(x10.shape)\n",
    "print(\"*\"*30)\n",
    "x11=x10.reshape(2,3,2)\n",
    "print(x11)\n",
    "print(x11.ndim)\n",
    "print(x11.shape)\n",
    "print(\"*\"*30)\n",
    "x11=x10.reshape(1,6,2)"
   ]
  },
  {
   "cell_type": "code",
   "execution_count": 24,
   "id": "af50ee5e-a019-4681-8d65-d562ed06a9f5",
   "metadata": {},
   "outputs": [
    {
     "name": "stdout",
     "output_type": "stream",
     "text": [
      "[ 1  2  3  4  5  6  7  8  9 10 11 12]\n",
      "1\n",
      "(12,)\n",
      "******************************\n",
      "[[[ 1]\n",
      "  [ 2]]\n",
      "\n",
      " [[ 3]\n",
      "  [ 4]]\n",
      "\n",
      " [[ 5]\n",
      "  [ 6]]\n",
      "\n",
      " [[ 7]\n",
      "  [ 8]]\n",
      "\n",
      " [[ 9]\n",
      "  [10]]\n",
      "\n",
      " [[11]\n",
      "  [12]]]\n",
      "3\n",
      "(6, 2, 1)\n",
      "******************************\n",
      "[[[ 1  2]\n",
      "  [ 3  4]\n",
      "  [ 5  6]\n",
      "  [ 7  8]\n",
      "  [ 9 10]\n",
      "  [11 12]]]\n",
      "3\n",
      "(1, 6, 2)\n",
      "******************************\n"
     ]
    }
   ],
   "source": [
    "x10=np.array([1,2,3,4,5,6,7,8,9,10,11,12])\n",
    "print(x10)\n",
    "print(x10.ndim)\n",
    "print(x10.shape)\n",
    "print(\"*\"*30)\n",
    "x11=x10.reshape(6,2,1)\n",
    "print(x11)\n",
    "print(x11.ndim)\n",
    "print(x11.shape)\n",
    "print(\"*\"*30)\n",
    "x12=x10.reshape(1,6,2)\n",
    "print(x12)\n",
    "print(x12.ndim)\n",
    "print(x12.shape)\n",
    "print(\"*\"*30)\n"
   ]
  },
  {
   "cell_type": "code",
   "execution_count": 25,
   "id": "10baf80e-40c9-4627-ba5b-a0759bfb3b3e",
   "metadata": {},
   "outputs": [
    {
     "name": "stdout",
     "output_type": "stream",
     "text": [
      "[ 1  2  3  4  5  6  7  8  9 10 11 12]\n",
      "1\n",
      "(12,)\n",
      "******************************\n",
      "[[[[ 1]\n",
      "   [ 2]]\n",
      "\n",
      "  [[ 3]\n",
      "   [ 4]]\n",
      "\n",
      "  [[ 5]\n",
      "   [ 6]]]\n",
      "\n",
      "\n",
      " [[[ 7]\n",
      "   [ 8]]\n",
      "\n",
      "  [[ 9]\n",
      "   [10]]\n",
      "\n",
      "  [[11]\n",
      "   [12]]]]\n",
      "4\n",
      "(2, 3, 2, 1)\n",
      "******************************\n"
     ]
    }
   ],
   "source": [
    "x13=np.array([1,2,3,4,5,6,7,8,9,10,11,12])\n",
    "print(x13)\n",
    "print(x13.ndim)\n",
    "print(x13.shape)\n",
    "print(\"*\"*30)\n",
    "x14=x13.reshape(2,3,2,1)\n",
    "print(x14)\n",
    "print(x14.ndim)\n",
    "print(x14.shape)\n",
    "print(\"*\"*30)\n"
   ]
  },
  {
   "cell_type": "code",
   "execution_count": 26,
   "id": "cb75bfb4-e08f-42d5-b2d1-0e25520880b8",
   "metadata": {},
   "outputs": [
    {
     "name": "stdout",
     "output_type": "stream",
     "text": [
      "[ 1  2  3  4  5  6  7  8  9 10 11 12]\n",
      "1\n",
      "(12,)\n",
      "******************************\n",
      "[[[[[ 1]]\n",
      "\n",
      "   [[ 2]]]\n",
      "\n",
      "\n",
      "  [[[ 3]]\n",
      "\n",
      "   [[ 4]]]\n",
      "\n",
      "\n",
      "  [[[ 5]]\n",
      "\n",
      "   [[ 6]]]]\n",
      "\n",
      "\n",
      "\n",
      " [[[[ 7]]\n",
      "\n",
      "   [[ 8]]]\n",
      "\n",
      "\n",
      "  [[[ 9]]\n",
      "\n",
      "   [[10]]]\n",
      "\n",
      "\n",
      "  [[[11]]\n",
      "\n",
      "   [[12]]]]]\n",
      "5\n",
      "(2, 3, 2, 1, 1)\n",
      "******************************\n"
     ]
    }
   ],
   "source": [
    "x15=np.array([1,2,3,4,5,6,7,8,9,10,11,12])\n",
    "print(x15)\n",
    "print(x15.ndim)\n",
    "print(x15.shape)\n",
    "print(\"*\"*30)\n",
    "x16=x15.reshape(2,3,2,1,1)\n",
    "print(x16)\n",
    "print(x16.ndim)\n",
    "print(x16.shape)\n",
    "print(\"*\"*30)\n"
   ]
  },
  {
   "cell_type": "code",
   "execution_count": 33,
   "id": "7b7cc112-8a84-4da0-8c48-e0e7f441c48d",
   "metadata": {},
   "outputs": [
    {
     "name": "stdout",
     "output_type": "stream",
     "text": [
      "[-2.11764706  9.49019608]\n"
     ]
    }
   ],
   "source": [
    "A=np.array([[4,3],[-5,9]])\n",
    "b=np.array([20,96])\n",
    "sol=np.linalg.solve(A,b)\n",
    "print(sol)"
   ]
  },
  {
   "cell_type": "code",
   "execution_count": 37,
   "id": "fa7da2ac-213d-4ce3-986b-840983b349b1",
   "metadata": {},
   "outputs": [
    {
     "name": "stdout",
     "output_type": "stream",
     "text": [
      "[-1.74725275 19.56410256 23.29304029]\n"
     ]
    }
   ],
   "source": [
    "S=np.array([[12,14,-10],[-20,-15,12],[15,-4,5]])\n",
    "F=np.array([20,21,12])\n",
    "sol=np.linalg.solve(S,F)\n",
    "print(sol)"
   ]
  },
  {
   "cell_type": "markdown",
   "id": "2cdfefe8-4e03-44fc-babd-985083615714",
   "metadata": {},
   "source": [
    "## Use Case Of Numpy for Image"
   ]
  },
  {
   "cell_type": "code",
   "execution_count": 42,
   "id": "25fd8c40-2b3a-413c-91f0-a9c63aba12b7",
   "metadata": {},
   "outputs": [
    {
     "data": {
      "text/plain": [
       "array([[[159, 240, 122],\n",
       "        [159, 240, 122],\n",
       "        [159, 240, 122],\n",
       "        ...,\n",
       "        [159, 240, 122],\n",
       "        [159, 240, 122],\n",
       "        [160, 239, 122]],\n",
       "\n",
       "       [[159, 240, 122],\n",
       "        [159, 240, 122],\n",
       "        [159, 240, 122],\n",
       "        ...,\n",
       "        [159, 240, 122],\n",
       "        [159, 240, 122],\n",
       "        [160, 239, 122]],\n",
       "\n",
       "       [[159, 240, 122],\n",
       "        [159, 240, 122],\n",
       "        [159, 240, 122],\n",
       "        ...,\n",
       "        [159, 240, 122],\n",
       "        [159, 240, 122],\n",
       "        [160, 239, 122]],\n",
       "\n",
       "       ...,\n",
       "\n",
       "       [[159, 240, 122],\n",
       "        [159, 240, 122],\n",
       "        [159, 240, 122],\n",
       "        ...,\n",
       "        [159, 240, 122],\n",
       "        [159, 240, 122],\n",
       "        [160, 239, 122]],\n",
       "\n",
       "       [[159, 240, 122],\n",
       "        [159, 240, 122],\n",
       "        [159, 240, 122],\n",
       "        ...,\n",
       "        [159, 240, 122],\n",
       "        [159, 240, 122],\n",
       "        [160, 239, 122]],\n",
       "\n",
       "       [[161, 240, 123],\n",
       "        [161, 240, 123],\n",
       "        [161, 240, 123],\n",
       "        ...,\n",
       "        [161, 240, 123],\n",
       "        [161, 240, 123],\n",
       "        [161, 240, 123]]], dtype=uint8)"
      ]
     },
     "execution_count": 42,
     "metadata": {},
     "output_type": "execute_result"
    }
   ],
   "source": [
    "from matplotlib.image import imread\n",
    "hi=imread(\"C://Users//samru//OneDrive//Documents//Pictures//img1.jpg\")\n",
    "hi"
   ]
  },
  {
   "cell_type": "code",
   "execution_count": 43,
   "id": "96625065-ba06-4265-ac23-7ca5d98ae427",
   "metadata": {},
   "outputs": [
    {
     "name": "stdout",
     "output_type": "stream",
     "text": [
      "[[[252 255 255]\n",
      "  [254 255 255]\n",
      "  [254 255 255]\n",
      "  ...\n",
      "  [255 255 255]\n",
      "  [255 255 255]\n",
      "  [255 255 255]]\n",
      "\n",
      " [[252 255 255]\n",
      "  [254 255 255]\n",
      "  [254 255 255]\n",
      "  ...\n",
      "  [255 255 255]\n",
      "  [255 255 255]\n",
      "  [255 255 255]]\n",
      "\n",
      " [[252 255 255]\n",
      "  [254 255 255]\n",
      "  [254 255 255]\n",
      "  ...\n",
      "  [255 255 255]\n",
      "  [255 255 255]\n",
      "  [255 255 255]]\n",
      "\n",
      " ...\n",
      "\n",
      " [[251 255 254]\n",
      "  [253 255 254]\n",
      "  [253 255 254]\n",
      "  ...\n",
      "  [255 255 255]\n",
      "  [255 255 255]\n",
      "  [255 255 255]]\n",
      "\n",
      " [[251 255 254]\n",
      "  [253 255 254]\n",
      "  [253 255 254]\n",
      "  ...\n",
      "  [255 255 255]\n",
      "  [255 255 255]\n",
      "  [255 255 255]]\n",
      "\n",
      " [[251 255 254]\n",
      "  [253 255 254]\n",
      "  [253 255 254]\n",
      "  ...\n",
      "  [255 255 255]\n",
      "  [255 255 255]\n",
      "  [255 255 255]]]\n",
      "3\n",
      "(360, 643, 3)\n"
     ]
    }
   ],
   "source": [
    "from matplotlib.image import imread\n",
    "hi2=imread(\"C://Users//samru//OneDrive//Documents//Pictures//jpgimg.jpg\")\n",
    "print(hi2)\n",
    "print(hi2.ndim)\n",
    "print(hi2.shape)"
   ]
  },
  {
   "cell_type": "code",
   "execution_count": null,
   "id": "3d2d8f1c-3188-4fc4-920b-8c37bfabceb5",
   "metadata": {},
   "outputs": [],
   "source": []
  },
  {
   "cell_type": "markdown",
   "id": "7a203584-dac8-4554-9114-83a293db9fd8",
   "metadata": {},
   "source": [
    "### Matrix Solving"
   ]
  },
  {
   "cell_type": "code",
   "execution_count": null,
   "id": "59bdd10f-7211-45a2-a04e-b9458091ab52",
   "metadata": {},
   "outputs": [],
   "source": []
  },
  {
   "cell_type": "code",
   "execution_count": 49,
   "id": "7c20b13a-df5d-4096-89bf-a0895dd0b877",
   "metadata": {},
   "outputs": [
    {
     "name": "stdout",
     "output_type": "stream",
     "text": [
      "[[1 2 3]\n",
      " [4 5 6]\n",
      " [5 6 7]]\n",
      "___________________________________________________\n",
      "2\n",
      "___________________________________________________\n",
      "13\n",
      "___________________________________________________\n",
      "8.437694987151141e-16\n",
      "___________________________________________________\n",
      "[[-1.18515780e+15  4.74063119e+15 -3.55547339e+15]\n",
      " [ 2.37031559e+15 -9.48126237e+15  7.11094678e+15]\n",
      " [-1.18515780e+15  4.74063119e+15 -3.55547339e+15]]\n"
     ]
    }
   ],
   "source": [
    "mat=np.array([[1,2,3],[4,5,6],[5,6,7]])\n",
    "print(mat)\n",
    "print(\"___________________________________________________\")\n",
    "print(np.linalg.matrix_rank(mat))\n",
    "print(\"___________________________________________________\")\n",
    "print(np.trace(mat))\n",
    "print(\"___________________________________________________\")\n",
    "print(np.linalg.det(mat))\n",
    "print(\"___________________________________________________\")\n",
    "print(np.linalg.inv(mat))"
   ]
  },
  {
   "cell_type": "code",
   "execution_count": 51,
   "id": "12bae981-e1d5-4e55-9dce-1b78de023fbe",
   "metadata": {},
   "outputs": [
    {
     "data": {
      "text/plain": [
       "array([[ 324,  414,  504],\n",
       "       [ 750,  957, 1164],\n",
       "       [ 892, 1138, 1384]])"
      ]
     },
     "execution_count": 51,
     "metadata": {},
     "output_type": "execute_result"
    }
   ],
   "source": [
    "np.linalg.matrix_power(mat,3)"
   ]
  },
  {
   "cell_type": "code",
   "execution_count": 54,
   "id": "27b92431-ea02-487f-9968-23da1fdbe082",
   "metadata": {},
   "outputs": [
    {
     "name": "stdout",
     "output_type": "stream",
     "text": [
      "[[1 2 3]\n",
      " [4 5 6]\n",
      " [7 8 9]]\n",
      "[-3.15746784 -0.67276795 18.8302358 ]\n",
      "[[-0.80238891  0.43402538 -0.40962667]\n",
      " [-0.16812656 -0.82296167 -0.54264865]\n",
      " [ 0.57263033  0.36654613 -0.73330651]]\n"
     ]
    }
   ],
   "source": [
    "mat2=np.array([[1,2,3],[4,5,6],[7,8,9]])\n",
    "print(mat2)\n",
    "c,d=np.linalg.eigh(mat2)\n",
    "print(c)\n",
    "print(d)"
   ]
  },
  {
   "cell_type": "code",
   "execution_count": 56,
   "id": "591cda4d-1bba-412e-a3d3-8277c2859b77",
   "metadata": {},
   "outputs": [
    {
     "data": {
      "text/plain": [
       "array([[1, 4, 7],\n",
       "       [2, 5, 8],\n",
       "       [3, 6, 9]])"
      ]
     },
     "execution_count": 56,
     "metadata": {},
     "output_type": "execute_result"
    }
   ],
   "source": [
    "np.transpose(mat2)"
   ]
  },
  {
   "cell_type": "code",
   "execution_count": 57,
   "id": "a68d0078-77dd-4638-8841-0e4a0a4d5d7a",
   "metadata": {},
   "outputs": [
    {
     "data": {
      "text/plain": [
       "array([[1, 2, 3],\n",
       "       [4, 5, 6],\n",
       "       [7, 8, 9]])"
      ]
     },
     "execution_count": 57,
     "metadata": {},
     "output_type": "execute_result"
    }
   ],
   "source": [
    "mat2"
   ]
  },
  {
   "cell_type": "markdown",
   "id": "1ecebd1c-8223-43c2-884e-31911a41c54f",
   "metadata": {},
   "source": [
    "## Mean ,Mode,Median"
   ]
  },
  {
   "cell_type": "code",
   "execution_count": 64,
   "id": "29373d47-717f-409d-85ff-5e110a855eb5",
   "metadata": {},
   "outputs": [
    {
     "name": "stdout",
     "output_type": "stream",
     "text": [
      "48.15384615384615\n",
      "ModeResult(mode=45, count=3)\n"
     ]
    }
   ],
   "source": [
    "from scipy import stats\n",
    "speed=np.array([22,34,45,6,78,89,23,45,67,67,89,45,16])\n",
    "m=np.mean(speed)\n",
    "m1=np.median(speed)\n",
    "print(m)\n",
    "m2=stats.mode(speed)\n",
    "print(m2)"
   ]
  },
  {
   "cell_type": "markdown",
   "id": "b38c7d0e-de9f-42ff-b705-af02f267060b",
   "metadata": {},
   "source": [
    "## SD Varience"
   ]
  },
  {
   "cell_type": "code",
   "execution_count": 2,
   "id": "bcd822ea-510f-4965-9809-d3d0f1cf206d",
   "metadata": {},
   "outputs": [],
   "source": [
    "import numpy as np"
   ]
  },
  {
   "cell_type": "code",
   "execution_count": 3,
   "id": "a96cc553-d715-4b0f-83ec-0c405caaf9bc",
   "metadata": {},
   "outputs": [
    {
     "name": "stdout",
     "output_type": "stream",
     "text": [
      "28.10249099279279\n",
      "789.75\n"
     ]
    }
   ],
   "source": [
    "speed=np.array([22,23,45,67,89,23,45,67,80,2,12,11])\n",
    "print(speed.std())\n",
    "print(speed.var())"
   ]
  },
  {
   "cell_type": "markdown",
   "id": "a0474574-6c11-477e-8d0a-b1e425357360",
   "metadata": {},
   "source": [
    "## Percentile"
   ]
  },
  {
   "cell_type": "code",
   "execution_count": 8,
   "id": "44c20740-965b-4804-bd7f-4bea4b7a010b",
   "metadata": {},
   "outputs": [
    {
     "data": {
      "text/plain": [
       "23.0"
      ]
     },
     "execution_count": 8,
     "metadata": {},
     "output_type": "execute_result"
    }
   ],
   "source": [
    "speed1=np.array([22,23,45,67,89,23,45,67,80,2,12,11])\n",
    "np.percentile(speed1,45)"
   ]
  },
  {
   "cell_type": "code",
   "execution_count": null,
   "id": "e84489c1-febd-4367-81f8-c19484eef928",
   "metadata": {},
   "outputs": [],
   "source": []
  },
  {
   "cell_type": "code",
   "execution_count": null,
   "id": "8c884aff-60c6-4eea-8b89-c58047d530c0",
   "metadata": {},
   "outputs": [],
   "source": []
  },
  {
   "cell_type": "code",
   "execution_count": null,
   "id": "c6c9afeb-a011-4cfd-a617-1a1b7abaf4a3",
   "metadata": {},
   "outputs": [],
   "source": []
  },
  {
   "cell_type": "code",
   "execution_count": null,
   "id": "e64f14ac-a9e8-4c48-902b-81e55014368a",
   "metadata": {},
   "outputs": [],
   "source": []
  }
 ],
 "metadata": {
  "kernelspec": {
   "display_name": "Python 3 (ipykernel)",
   "language": "python",
   "name": "python3"
  },
  "language_info": {
   "codemirror_mode": {
    "name": "ipython",
    "version": 3
   },
   "file_extension": ".py",
   "mimetype": "text/x-python",
   "name": "python",
   "nbconvert_exporter": "python",
   "pygments_lexer": "ipython3",
   "version": "3.12.7"
  }
 },
 "nbformat": 4,
 "nbformat_minor": 5
}
